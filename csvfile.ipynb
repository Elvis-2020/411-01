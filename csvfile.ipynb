{
  "nbformat": 4,
  "nbformat_minor": 0,
  "metadata": {
    "colab": {
      "name": "csvfile.ipynb",
      "provenance": [],
      "authorship_tag": "ABX9TyPKr/XlHndcOk+3JJL9shan",
      "include_colab_link": true
    },
    "kernelspec": {
      "name": "python3",
      "display_name": "Python 3"
    }
  },
  "cells": [
    {
      "cell_type": "markdown",
      "metadata": {
        "id": "view-in-github",
        "colab_type": "text"
      },
      "source": [
        "<a href=\"https://colab.research.google.com/github/Elvis-2020/411-01/blob/master/csvfile.ipynb\" target=\"_parent\"><img src=\"https://colab.research.google.com/assets/colab-badge.svg\" alt=\"Open In Colab\"/></a>"
      ]
    },
    {
      "cell_type": "code",
      "metadata": {
        "id": "AaicpMwoLkCX",
        "colab_type": "code",
        "colab": {
          "base_uri": "https://localhost:8080/",
          "height": 289
        },
        "outputId": "6f67a7d4-99ee-4529-af9f-7303d3dd324d"
      },
      "source": [
        "import pandas as pd \n",
        "pd.set_option('display.max_rows', None)\n",
        "data = pd.read_csv(\"event.csv\") \n",
        "data.head()"
      ],
      "execution_count": 4,
      "outputs": [
        {
          "output_type": "execute_result",
          "data": {
            "text/html": [
              "<div>\n",
              "<style scoped>\n",
              "    .dataframe tbody tr th:only-of-type {\n",
              "        vertical-align: middle;\n",
              "    }\n",
              "\n",
              "    .dataframe tbody tr th {\n",
              "        vertical-align: top;\n",
              "    }\n",
              "\n",
              "    .dataframe thead th {\n",
              "        text-align: right;\n",
              "    }\n",
              "</style>\n",
              "<table border=\"1\" class=\"dataframe\">\n",
              "  <thead>\n",
              "    <tr style=\"text-align: right;\">\n",
              "      <th></th>\n",
              "      <th>Level</th>\n",
              "      <th>Date and Time</th>\n",
              "      <th>Source</th>\n",
              "      <th>Event ID</th>\n",
              "      <th>Task Category</th>\n",
              "    </tr>\n",
              "  </thead>\n",
              "  <tbody>\n",
              "    <tr>\n",
              "      <th>Information</th>\n",
              "      <td>16.09.2020 21:27:03</td>\n",
              "      <td>Service Control Manager</td>\n",
              "      <td>7040</td>\n",
              "      <td>None</td>\n",
              "      <td>Pakalpojuma Background Intelligent Transfer Se...</td>\n",
              "    </tr>\n",
              "    <tr>\n",
              "      <th>Information</th>\n",
              "      <td>16.09.2020 21:15:38</td>\n",
              "      <td>Microsoft-Windows-WindowsUpdateClient</td>\n",
              "      <td>43</td>\n",
              "      <td>Windows Update aģents</td>\n",
              "      <td>Instalēšana sākusies: Windows sāka instalēt šo...</td>\n",
              "    </tr>\n",
              "    <tr>\n",
              "      <th>Information</th>\n",
              "      <td>16.09.2020 21:15:37</td>\n",
              "      <td>Service Control Manager</td>\n",
              "      <td>7040</td>\n",
              "      <td>None</td>\n",
              "      <td>Pakalpojuma Windows Modules Installer startēša...</td>\n",
              "    </tr>\n",
              "    <tr>\n",
              "      <th>Information</th>\n",
              "      <td>16.09.2020 21:15:37</td>\n",
              "      <td>Service Control Manager</td>\n",
              "      <td>7040</td>\n",
              "      <td>None</td>\n",
              "      <td>Pakalpojuma Windows Modules Installer startēša...</td>\n",
              "    </tr>\n",
              "    <tr>\n",
              "      <th>Information</th>\n",
              "      <td>16.09.2020 21:15:08</td>\n",
              "      <td>Service Control Manager</td>\n",
              "      <td>7040</td>\n",
              "      <td>None</td>\n",
              "      <td>Pakalpojuma Windows Modules Installer startēša...</td>\n",
              "    </tr>\n",
              "  </tbody>\n",
              "</table>\n",
              "</div>"
            ],
            "text/plain": [
              "                           Level  ...                                      Task Category\n",
              "Information  16.09.2020 21:27:03  ...  Pakalpojuma Background Intelligent Transfer Se...\n",
              "Information  16.09.2020 21:15:38  ...  Instalēšana sākusies: Windows sāka instalēt šo...\n",
              "Information  16.09.2020 21:15:37  ...  Pakalpojuma Windows Modules Installer startēša...\n",
              "Information  16.09.2020 21:15:37  ...  Pakalpojuma Windows Modules Installer startēša...\n",
              "Information  16.09.2020 21:15:08  ...  Pakalpojuma Windows Modules Installer startēša...\n",
              "\n",
              "[5 rows x 5 columns]"
            ]
          },
          "metadata": {
            "tags": []
          },
          "execution_count": 4
        }
      ]
    }
  ]
}